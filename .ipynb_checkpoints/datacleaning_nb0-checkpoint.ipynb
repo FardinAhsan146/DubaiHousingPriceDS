{
 "cells": [
  {
   "cell_type": "code",
   "execution_count": 2,
   "id": "457bafe1",
   "metadata": {},
   "outputs": [
    {
     "ename": "ModuleNotFoundError",
     "evalue": "No module named 'geopandas'",
     "output_type": "error",
     "traceback": [
      "\u001b[1;31m---------------------------------------------------------------------------\u001b[0m",
      "\u001b[1;31mModuleNotFoundError\u001b[0m                       Traceback (most recent call last)",
      "\u001b[1;32m~\\AppData\\Local\\Temp/ipykernel_13496/1259499560.py\u001b[0m in \u001b[0;36m<module>\u001b[1;34m\u001b[0m\n\u001b[0;32m      1\u001b[0m \u001b[1;32mimport\u001b[0m \u001b[0mpandas\u001b[0m \u001b[1;32mas\u001b[0m \u001b[0mpd\u001b[0m\u001b[1;33m\u001b[0m\u001b[1;33m\u001b[0m\u001b[0m\n\u001b[1;32m----> 2\u001b[1;33m \u001b[1;32mimport\u001b[0m \u001b[0mgeopandas\u001b[0m \u001b[1;32mas\u001b[0m \u001b[0mgpd\u001b[0m\u001b[1;33m\u001b[0m\u001b[1;33m\u001b[0m\u001b[0m\n\u001b[0m",
      "\u001b[1;31mModuleNotFoundError\u001b[0m: No module named 'geopandas'"
     ]
    }
   ],
   "source": [
    "import pandas as pd\n",
    "import geopandas as gpd"
   ]
  },
  {
   "cell_type": "code",
   "execution_count": null,
   "id": "d82f0912",
   "metadata": {},
   "outputs": [],
   "source": [
    "ff = gpd.read_file('dubai.geojson')\n",
    "ff"
   ]
  },
  {
   "cell_type": "code",
   "execution_count": null,
   "id": "d858d292",
   "metadata": {},
   "outputs": [],
   "source": [
    "map_dict = {'Palm Jumeirah':'NAKHLAT JUMEIRA',\n",
    "           'Jumeirah Lake Towers':'AL THANYAH FIFTH',\n",
    "           'Culture Village':'AL JADAF',\n",
    "           'Downtown Dubai':'BURJ KHALIFA',\n",
    "           'Dubai Marina':'MARSA DUBAI',\n",
    "           'Business Bay':'BUSINESS BAY',\n",
    "           'Old Town':'BURJ KHALIFA',\n",
    "           'Al Kifaf':'AL KIFAF',\n",
    "           'Meydan':'NADD AL SHIBA FIRST',\n",
    "           'Arjan':'AL BARSHA SOUTH THIRD',\n",
    "           'Jumeirah Beach Residence':'MARSA DUBAI',\n",
    "           'Dubai Creek Harbour (The Lagoons)':'AL KHEERAN FIRST',\n",
    "           'Greens':'AL THANYAH THIRD',\n",
    "           'City Walk':'AL WASL',\n",
    "           'Al Furjan':'JABAL ALI FIRST',\n",
    "           'DAMAC Hills':'AL HEBIAH THIRD',\n",
    "           'Jumeirah Golf Estates':'MEAISEM FIRST',\n",
    "           'Jumeirah':'JUMEIRA FIRST',\n",
    "           'Dubai Hills Estate':'HADAEQ SHEIKH MOHAMMED BIN RASHID',\n",
    "           'Umm Suqeim':'UMM SUQEIM FIRST',\n",
    "           'Motor City':'AL HEBIAH FIRST',\n",
    "           'DIFC':'ZAABEEL SECOND',\n",
    "           'Jumeirah Village Circle':'AL BARSHA SOUTH FOURTH',\n",
    "           'Barsha Heights (Tecom)':'AL THANYAH FIRST',\n",
    "           'Al Barari':'WADI AL SAFA 3',\n",
    "           'Dubai Production City (IMPZ)':'MEAISEM FIRST',\n",
    "           'The Hills':'AL THANYAH THIRD',\n",
    "           'The Views':'AL THANYAH THIRD',\n",
    "           'Dubai Sports City':'AL HEBIAH FOURTH',\n",
    "           'Dubai Silicon Oasis':'NADD HESSA',\n",
    "           'Jumeirah Village Triangle':'AL BARSHA SOUTH FIFTH',   \n",
    "           'Mohammed Bin Rashid City':'WADI AL SAFA 3',\n",
    "           'Dubai Harbour':'MARSA DUBAI',\n",
    "           'Bluewaters':'MARSA DUBAI',\n",
    "           'International City':'WARSAN FIRST',\n",
    "           'Falcon City of Wonders':'WADI AL SAFA 2',\n",
    "           'Mina Rashid':'MADINAT DUBAI AL MELAHEYAH',\n",
    "           'Town Square':'AL YALAYIS 2',\n",
    "           'Green Community':'DUBAI INVESTMENT PARK FIRST',\n",
    "           'Al Barsha':'AL BARSHA FIRST',\n",
    "           'Al Sufouh':'AL SAFOUH FIRST',\n",
    "           'Dubai Festival City':'AL KHEERAN',\n",
    "           'Jebel Ali':'JABAL ALI FIRST',\n",
    "           'World Trade Center':'TRADE CENTER SECOND',\n",
    "           'Mudon':'AL HEBIAH SIXTH',\n",
    "           'Discovery Gardens':'JABAL ALI FIRST',\n",
    "           'Remraam':'AL HEBIAH FIFTH',\n",
    "           'Mirdif':'MIRDIF',\n",
    "           'Dubai South (Dubai World Central)':'MADINAT AL MATAAR',\n",
    "           'Dubai Healthcare City':'UMM HURAIR SECOND',\n",
    "           'wasl gate':'JABAL ALI FIRST',\n",
    "           'Dubai Residence Complex':'WADI AL SAFA 5',\n",
    "           'Al Quoz':'AL QOUZ FIRST'}"
   ]
  },
  {
   "cell_type": "code",
   "execution_count": null,
   "id": "c0183b17",
   "metadata": {},
   "outputs": [],
   "source": []
  }
 ],
 "metadata": {
  "kernelspec": {
   "display_name": "Python 3 (ipykernel)",
   "language": "python",
   "name": "python3"
  },
  "language_info": {
   "codemirror_mode": {
    "name": "ipython",
    "version": 3
   },
   "file_extension": ".py",
   "mimetype": "text/x-python",
   "name": "python",
   "nbconvert_exporter": "python",
   "pygments_lexer": "ipython3",
   "version": "3.8.12"
  }
 },
 "nbformat": 4,
 "nbformat_minor": 5
}
