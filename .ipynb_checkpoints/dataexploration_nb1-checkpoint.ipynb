{
 "cells": [
  {
   "cell_type": "code",
   "execution_count": 1,
   "id": "d37d321c",
   "metadata": {},
   "outputs": [],
   "source": [
    "import pandas as pd\n",
    "import numpy as np\n",
    "import seaborn as sns\n",
    "\n",
    "from matplotlib import pyplot as plt \n",
    "from scipy.stats import norm\n",
    "from sklearn.preprocessing import StandardScaler\n",
    "from scipy import stats\n",
    "\n",
    "import warnings\n",
    "pd.set_option('max_columns', None)\n",
    "pd.set_option('display.float_format', str)\n",
    "warnings.filterwarnings('ignore')\n",
    "%matplotlib inline\n",
    "\n",
    "plt.style.use('ggplot')\n",
    "plt.rcParams['figure.figsize'] = [8,4]\n",
    "plt.rcParams[\"axes.edgecolor\"] = \"black\""
   ]
  },
  {
   "cell_type": "markdown",
   "id": "0a4383ad",
   "metadata": {},
   "source": [
    "# EDA notebook"
   ]
  },
  {
   "cell_type": "markdown",
   "id": "44f481dd",
   "metadata": {},
   "source": [
    "## Dataset initial exploration"
   ]
  },
  {
   "cell_type": "code",
   "execution_count": 2,
   "id": "0c2dadb3",
   "metadata": {},
   "outputs": [],
   "source": [
    "df = pd.read_csv('datasets\\cleaned.csv')"
   ]
  },
  {
   "cell_type": "code",
   "execution_count": 3,
   "id": "361561cb",
   "metadata": {},
   "outputs": [
    {
     "data": {
      "text/html": [
       "<div>\n",
       "<style scoped>\n",
       "    .dataframe tbody tr th:only-of-type {\n",
       "        vertical-align: middle;\n",
       "    }\n",
       "\n",
       "    .dataframe tbody tr th {\n",
       "        vertical-align: top;\n",
       "    }\n",
       "\n",
       "    .dataframe thead th {\n",
       "        text-align: right;\n",
       "    }\n",
       "</style>\n",
       "<table border=\"1\" class=\"dataframe\">\n",
       "  <thead>\n",
       "    <tr style=\"text-align: right;\">\n",
       "      <th></th>\n",
       "      <th>neighborhood</th>\n",
       "      <th>latitude</th>\n",
       "      <th>longitude</th>\n",
       "      <th>price</th>\n",
       "      <th>size_in_sqft</th>\n",
       "      <th>price_per_sqft</th>\n",
       "      <th>no_of_bedrooms</th>\n",
       "      <th>no_of_bathrooms</th>\n",
       "      <th>quality</th>\n",
       "      <th>maid_room</th>\n",
       "      <th>unfurnished</th>\n",
       "      <th>balcony</th>\n",
       "      <th>barbecue_area</th>\n",
       "      <th>built_in_wardrobes</th>\n",
       "      <th>central_ac</th>\n",
       "      <th>childrens_play_area</th>\n",
       "      <th>childrens_pool</th>\n",
       "      <th>concierge</th>\n",
       "      <th>covered_parking</th>\n",
       "      <th>kitchen_appliances</th>\n",
       "      <th>lobby_in_building</th>\n",
       "      <th>maid_service</th>\n",
       "      <th>networked</th>\n",
       "      <th>pets_allowed</th>\n",
       "      <th>private_garden</th>\n",
       "      <th>private_gym</th>\n",
       "      <th>private_jacuzzi</th>\n",
       "      <th>private_pool</th>\n",
       "      <th>security</th>\n",
       "      <th>shared_gym</th>\n",
       "      <th>shared_pool</th>\n",
       "      <th>shared_spa</th>\n",
       "      <th>study</th>\n",
       "      <th>vastu_compliant</th>\n",
       "      <th>view_of_landmark</th>\n",
       "      <th>view_of_water</th>\n",
       "      <th>walk_in_closet</th>\n",
       "      <th>num_venues</th>\n",
       "      <th>venue_senti</th>\n",
       "      <th>num_stations</th>\n",
       "    </tr>\n",
       "  </thead>\n",
       "  <tbody>\n",
       "    <tr>\n",
       "      <th>0</th>\n",
       "      <td>NAKHLAT JUMEIRA</td>\n",
       "      <td>25.113208</td>\n",
       "      <td>55.138932</td>\n",
       "      <td>2700000</td>\n",
       "      <td>1079</td>\n",
       "      <td>2502.32</td>\n",
       "      <td>1</td>\n",
       "      <td>2</td>\n",
       "      <td>1</td>\n",
       "      <td>0</td>\n",
       "      <td>0</td>\n",
       "      <td>1</td>\n",
       "      <td>1</td>\n",
       "      <td>0</td>\n",
       "      <td>1</td>\n",
       "      <td>1</td>\n",
       "      <td>0</td>\n",
       "      <td>1</td>\n",
       "      <td>0</td>\n",
       "      <td>1</td>\n",
       "      <td>0</td>\n",
       "      <td>0</td>\n",
       "      <td>0</td>\n",
       "      <td>1</td>\n",
       "      <td>0</td>\n",
       "      <td>0</td>\n",
       "      <td>0</td>\n",
       "      <td>0</td>\n",
       "      <td>0</td>\n",
       "      <td>1</td>\n",
       "      <td>0</td>\n",
       "      <td>0</td>\n",
       "      <td>0</td>\n",
       "      <td>0</td>\n",
       "      <td>0</td>\n",
       "      <td>1</td>\n",
       "      <td>0</td>\n",
       "      <td>99</td>\n",
       "      <td>8.488888888888889</td>\n",
       "      <td>0</td>\n",
       "    </tr>\n",
       "    <tr>\n",
       "      <th>1</th>\n",
       "      <td>NAKHLAT JUMEIRA</td>\n",
       "      <td>25.106809</td>\n",
       "      <td>55.151201</td>\n",
       "      <td>2850000</td>\n",
       "      <td>1582</td>\n",
       "      <td>1801.52</td>\n",
       "      <td>2</td>\n",
       "      <td>2</td>\n",
       "      <td>1</td>\n",
       "      <td>0</td>\n",
       "      <td>0</td>\n",
       "      <td>1</td>\n",
       "      <td>0</td>\n",
       "      <td>1</td>\n",
       "      <td>1</td>\n",
       "      <td>1</td>\n",
       "      <td>0</td>\n",
       "      <td>0</td>\n",
       "      <td>0</td>\n",
       "      <td>0</td>\n",
       "      <td>0</td>\n",
       "      <td>0</td>\n",
       "      <td>0</td>\n",
       "      <td>0</td>\n",
       "      <td>0</td>\n",
       "      <td>0</td>\n",
       "      <td>0</td>\n",
       "      <td>0</td>\n",
       "      <td>0</td>\n",
       "      <td>1</td>\n",
       "      <td>1</td>\n",
       "      <td>0</td>\n",
       "      <td>0</td>\n",
       "      <td>0</td>\n",
       "      <td>0</td>\n",
       "      <td>1</td>\n",
       "      <td>0</td>\n",
       "      <td>99</td>\n",
       "      <td>8.488888888888889</td>\n",
       "      <td>0</td>\n",
       "    </tr>\n",
       "    <tr>\n",
       "      <th>2</th>\n",
       "      <td>AL THANYAH FIFTH</td>\n",
       "      <td>25.063302</td>\n",
       "      <td>55.137728</td>\n",
       "      <td>1150000</td>\n",
       "      <td>1951</td>\n",
       "      <td>589.44</td>\n",
       "      <td>3</td>\n",
       "      <td>5</td>\n",
       "      <td>1</td>\n",
       "      <td>1</td>\n",
       "      <td>1</td>\n",
       "      <td>1</td>\n",
       "      <td>0</td>\n",
       "      <td>1</td>\n",
       "      <td>0</td>\n",
       "      <td>0</td>\n",
       "      <td>0</td>\n",
       "      <td>0</td>\n",
       "      <td>1</td>\n",
       "      <td>0</td>\n",
       "      <td>0</td>\n",
       "      <td>0</td>\n",
       "      <td>0</td>\n",
       "      <td>0</td>\n",
       "      <td>0</td>\n",
       "      <td>0</td>\n",
       "      <td>1</td>\n",
       "      <td>0</td>\n",
       "      <td>1</td>\n",
       "      <td>1</td>\n",
       "      <td>1</td>\n",
       "      <td>0</td>\n",
       "      <td>0</td>\n",
       "      <td>0</td>\n",
       "      <td>1</td>\n",
       "      <td>1</td>\n",
       "      <td>1</td>\n",
       "      <td>51</td>\n",
       "      <td>8.21764705882353</td>\n",
       "      <td>2</td>\n",
       "    </tr>\n",
       "    <tr>\n",
       "      <th>3</th>\n",
       "      <td>AL JADAF</td>\n",
       "      <td>25.227295</td>\n",
       "      <td>55.341761</td>\n",
       "      <td>2850000</td>\n",
       "      <td>2020</td>\n",
       "      <td>1410.89</td>\n",
       "      <td>2</td>\n",
       "      <td>3</td>\n",
       "      <td>0</td>\n",
       "      <td>0</td>\n",
       "      <td>1</td>\n",
       "      <td>1</td>\n",
       "      <td>0</td>\n",
       "      <td>0</td>\n",
       "      <td>0</td>\n",
       "      <td>0</td>\n",
       "      <td>0</td>\n",
       "      <td>1</td>\n",
       "      <td>1</td>\n",
       "      <td>0</td>\n",
       "      <td>0</td>\n",
       "      <td>0</td>\n",
       "      <td>0</td>\n",
       "      <td>1</td>\n",
       "      <td>0</td>\n",
       "      <td>0</td>\n",
       "      <td>0</td>\n",
       "      <td>0</td>\n",
       "      <td>0</td>\n",
       "      <td>0</td>\n",
       "      <td>0</td>\n",
       "      <td>0</td>\n",
       "      <td>0</td>\n",
       "      <td>0</td>\n",
       "      <td>0</td>\n",
       "      <td>0</td>\n",
       "      <td>0</td>\n",
       "      <td>18</td>\n",
       "      <td>8.0</td>\n",
       "      <td>1</td>\n",
       "    </tr>\n",
       "    <tr>\n",
       "      <th>4</th>\n",
       "      <td>NAKHLAT JUMEIRA</td>\n",
       "      <td>25.114275</td>\n",
       "      <td>55.139764</td>\n",
       "      <td>1729200</td>\n",
       "      <td>507</td>\n",
       "      <td>3410.65</td>\n",
       "      <td>0</td>\n",
       "      <td>1</td>\n",
       "      <td>1</td>\n",
       "      <td>0</td>\n",
       "      <td>0</td>\n",
       "      <td>0</td>\n",
       "      <td>0</td>\n",
       "      <td>1</td>\n",
       "      <td>1</td>\n",
       "      <td>0</td>\n",
       "      <td>0</td>\n",
       "      <td>0</td>\n",
       "      <td>1</td>\n",
       "      <td>1</td>\n",
       "      <td>0</td>\n",
       "      <td>0</td>\n",
       "      <td>1</td>\n",
       "      <td>0</td>\n",
       "      <td>0</td>\n",
       "      <td>0</td>\n",
       "      <td>0</td>\n",
       "      <td>0</td>\n",
       "      <td>1</td>\n",
       "      <td>1</td>\n",
       "      <td>1</td>\n",
       "      <td>1</td>\n",
       "      <td>0</td>\n",
       "      <td>0</td>\n",
       "      <td>1</td>\n",
       "      <td>1</td>\n",
       "      <td>0</td>\n",
       "      <td>99</td>\n",
       "      <td>8.488888888888889</td>\n",
       "      <td>0</td>\n",
       "    </tr>\n",
       "  </tbody>\n",
       "</table>\n",
       "</div>"
      ],
      "text/plain": [
       "       neighborhood  latitude  longitude    price  size_in_sqft  \\\n",
       "0   NAKHLAT JUMEIRA 25.113208  55.138932  2700000          1079   \n",
       "1   NAKHLAT JUMEIRA 25.106809  55.151201  2850000          1582   \n",
       "2  AL THANYAH FIFTH 25.063302  55.137728  1150000          1951   \n",
       "3          AL JADAF 25.227295  55.341761  2850000          2020   \n",
       "4   NAKHLAT JUMEIRA 25.114275  55.139764  1729200           507   \n",
       "\n",
       "   price_per_sqft  no_of_bedrooms  no_of_bathrooms  quality  maid_room  \\\n",
       "0         2502.32               1                2        1          0   \n",
       "1         1801.52               2                2        1          0   \n",
       "2          589.44               3                5        1          1   \n",
       "3         1410.89               2                3        0          0   \n",
       "4         3410.65               0                1        1          0   \n",
       "\n",
       "   unfurnished  balcony  barbecue_area  built_in_wardrobes  central_ac  \\\n",
       "0            0        1              1                   0           1   \n",
       "1            0        1              0                   1           1   \n",
       "2            1        1              0                   1           0   \n",
       "3            1        1              0                   0           0   \n",
       "4            0        0              0                   1           1   \n",
       "\n",
       "   childrens_play_area  childrens_pool  concierge  covered_parking  \\\n",
       "0                    1               0          1                0   \n",
       "1                    1               0          0                0   \n",
       "2                    0               0          0                1   \n",
       "3                    0               0          1                1   \n",
       "4                    0               0          0                1   \n",
       "\n",
       "   kitchen_appliances  lobby_in_building  maid_service  networked  \\\n",
       "0                   1                  0             0          0   \n",
       "1                   0                  0             0          0   \n",
       "2                   0                  0             0          0   \n",
       "3                   0                  0             0          0   \n",
       "4                   1                  0             0          1   \n",
       "\n",
       "   pets_allowed  private_garden  private_gym  private_jacuzzi  private_pool  \\\n",
       "0             1               0            0                0             0   \n",
       "1             0               0            0                0             0   \n",
       "2             0               0            0                1             0   \n",
       "3             1               0            0                0             0   \n",
       "4             0               0            0                0             0   \n",
       "\n",
       "   security  shared_gym  shared_pool  shared_spa  study  vastu_compliant  \\\n",
       "0         0           1            0           0      0                0   \n",
       "1         0           1            1           0      0                0   \n",
       "2         1           1            1           0      0                0   \n",
       "3         0           0            0           0      0                0   \n",
       "4         1           1            1           1      0                0   \n",
       "\n",
       "   view_of_landmark  view_of_water  walk_in_closet  num_venues  \\\n",
       "0                 0              1               0          99   \n",
       "1                 0              1               0          99   \n",
       "2                 1              1               1          51   \n",
       "3                 0              0               0          18   \n",
       "4                 1              1               0          99   \n",
       "\n",
       "        venue_senti  num_stations  \n",
       "0 8.488888888888889             0  \n",
       "1 8.488888888888889             0  \n",
       "2  8.21764705882353             2  \n",
       "3               8.0             1  \n",
       "4 8.488888888888889             0  "
      ]
     },
     "execution_count": 3,
     "metadata": {},
     "output_type": "execute_result"
    }
   ],
   "source": [
    "df.head(5)"
   ]
  },
  {
   "cell_type": "code",
   "execution_count": 4,
   "id": "b3ec8e79",
   "metadata": {},
   "outputs": [
    {
     "data": {
      "text/plain": [
       "Index(['neighborhood', 'latitude', 'longitude', 'price', 'size_in_sqft',\n",
       "       'price_per_sqft', 'no_of_bedrooms', 'no_of_bathrooms', 'quality',\n",
       "       'maid_room', 'unfurnished', 'balcony', 'barbecue_area',\n",
       "       'built_in_wardrobes', 'central_ac', 'childrens_play_area',\n",
       "       'childrens_pool', 'concierge', 'covered_parking', 'kitchen_appliances',\n",
       "       'lobby_in_building', 'maid_service', 'networked', 'pets_allowed',\n",
       "       'private_garden', 'private_gym', 'private_jacuzzi', 'private_pool',\n",
       "       'security', 'shared_gym', 'shared_pool', 'shared_spa', 'study',\n",
       "       'vastu_compliant', 'view_of_landmark', 'view_of_water',\n",
       "       'walk_in_closet', 'num_venues', 'venue_senti', 'num_stations'],\n",
       "      dtype='object')"
      ]
     },
     "execution_count": 4,
     "metadata": {},
     "output_type": "execute_result"
    }
   ],
   "source": [
    "df.columns"
   ]
  },
  {
   "cell_type": "code",
   "execution_count": 5,
   "id": "509243c9",
   "metadata": {},
   "outputs": [
    {
     "name": "stdout",
     "output_type": "stream",
     "text": [
      "<class 'pandas.core.frame.DataFrame'>\n",
      "RangeIndex: 1844 entries, 0 to 1843\n",
      "Data columns (total 40 columns):\n",
      " #   Column               Non-Null Count  Dtype  \n",
      "---  ------               --------------  -----  \n",
      " 0   neighborhood         1844 non-null   object \n",
      " 1   latitude             1844 non-null   float64\n",
      " 2   longitude            1844 non-null   float64\n",
      " 3   price                1844 non-null   int64  \n",
      " 4   size_in_sqft         1844 non-null   int64  \n",
      " 5   price_per_sqft       1844 non-null   float64\n",
      " 6   no_of_bedrooms       1844 non-null   int64  \n",
      " 7   no_of_bathrooms      1844 non-null   int64  \n",
      " 8   quality              1844 non-null   int64  \n",
      " 9   maid_room            1844 non-null   int64  \n",
      " 10  unfurnished          1844 non-null   int64  \n",
      " 11  balcony              1844 non-null   int64  \n",
      " 12  barbecue_area        1844 non-null   int64  \n",
      " 13  built_in_wardrobes   1844 non-null   int64  \n",
      " 14  central_ac           1844 non-null   int64  \n",
      " 15  childrens_play_area  1844 non-null   int64  \n",
      " 16  childrens_pool       1844 non-null   int64  \n",
      " 17  concierge            1844 non-null   int64  \n",
      " 18  covered_parking      1844 non-null   int64  \n",
      " 19  kitchen_appliances   1844 non-null   int64  \n",
      " 20  lobby_in_building    1844 non-null   int64  \n",
      " 21  maid_service         1844 non-null   int64  \n",
      " 22  networked            1844 non-null   int64  \n",
      " 23  pets_allowed         1844 non-null   int64  \n",
      " 24  private_garden       1844 non-null   int64  \n",
      " 25  private_gym          1844 non-null   int64  \n",
      " 26  private_jacuzzi      1844 non-null   int64  \n",
      " 27  private_pool         1844 non-null   int64  \n",
      " 28  security             1844 non-null   int64  \n",
      " 29  shared_gym           1844 non-null   int64  \n",
      " 30  shared_pool          1844 non-null   int64  \n",
      " 31  shared_spa           1844 non-null   int64  \n",
      " 32  study                1844 non-null   int64  \n",
      " 33  vastu_compliant      1844 non-null   int64  \n",
      " 34  view_of_landmark     1844 non-null   int64  \n",
      " 35  view_of_water        1844 non-null   int64  \n",
      " 36  walk_in_closet       1844 non-null   int64  \n",
      " 37  num_venues           1844 non-null   int64  \n",
      " 38  venue_senti          1844 non-null   float64\n",
      " 39  num_stations         1844 non-null   int64  \n",
      "dtypes: float64(4), int64(35), object(1)\n",
      "memory usage: 576.4+ KB\n"
     ]
    }
   ],
   "source": [
    "df.info()"
   ]
  },
  {
   "cell_type": "markdown",
   "id": "a7679b62",
   "metadata": {},
   "source": [
    "## The target column (Y)"
   ]
  },
  {
   "cell_type": "code",
   "execution_count": 6,
   "id": "e37ad14c",
   "metadata": {},
   "outputs": [
    {
     "data": {
      "text/plain": [
       "count               1844.0\n",
       "mean    2107441.4446854666\n",
       "std     2949678.5712087657\n",
       "min               220000.0\n",
       "25%               900000.0\n",
       "50%              1425000.0\n",
       "75%              2200000.0\n",
       "max             35000000.0\n",
       "Name: price, dtype: float64"
      ]
     },
     "execution_count": 6,
     "metadata": {},
     "output_type": "execute_result"
    }
   ],
   "source": [
    "# General statistics\n",
    "df['price'].describe()"
   ]
  },
  {
   "cell_type": "code",
   "execution_count": 7,
   "id": "efa3bfb7",
   "metadata": {},
   "outputs": [
    {
     "name": "stdout",
     "output_type": "stream",
     "text": [
      "Skewness: 6.096520\n",
      "Kurtosis: 47.792884\n"
     ]
    },
    {
     "data": {
      "image/png": "[encoded data removed]",
      "text/plain": [
       "<Figure size 576x288 with 1 Axes>"
      ]
     },
     "metadata": {},
     "output_type": "display_data"
    }
   ],
   "source": [
    "# Distribution\n",
    "sns.distplot(df['price'])\n",
    "plt.title('Price Distibution')\n",
    "\n",
    "print(\"Skewness: %f\" % df['price'].skew())\n",
    "print(\"Kurtosis: %f\" % df['price'].kurt())"
   ]
  },
  {
   "cell_type": "markdown",
   "id": "adac480f",
   "metadata": {},
   "source": [
    "## Numerical relationships"
   ]
  },
  {
   "cell_type": "code",
   "execution_count": 8,
   "id": "0814e496",
   "metadata": {},
   "outputs": [
    {
     "data": {
      "text/plain": [
       "Text(0.5, 1.0, 'Price against size (sqr foot)')"
      ]
     },
     "execution_count": 8,
     "metadata": {},
     "output_type": "execute_result"
    },
    {
     "data": {
      "image/png": "[encoded data removed]",
      "text/plain": [
       "<Figure size 576x288 with 1 Axes>"
      ]
     },
     "metadata": {},
     "output_type": "display_data"
    }
   ],
   "source": [
    "# Plotting price relationships\n",
    "sns.scatterplot(data = df, y = 'price', x = 'size_in_sqft')\n",
    "plt.title('Price against size (sqr foot)')"
   ]
  },
  {
   "cell_type": "code",
   "execution_count": 17,
   "id": "dda10d3a",
   "metadata": {},
   "outputs": [
    {
     "data": {
      "text/plain": [
       "Text(0.5, 1.0, 'Price against #bedrooms')"
      ]
     },
     "execution_count": 17,
     "metadata": {},
     "output_type": "execute_result"
    },
    {
     "data": {
      "image/png": "[encoded data removed]",
      "text/plain": [
       "<Figure size 576x288 with 1 Axes>"
      ]
     },
     "metadata": {},
     "output_type": "display_data"
    }
   ],
   "source": [
    "sns.boxplot(data = df, y = 'price', x = 'no_of_bedrooms')\n",
    "plt.title('Price against #bedrooms')"
   ]
  },
  {
   "cell_type": "code",
   "execution_count": 18,
   "id": "c3fd59b8",
   "metadata": {},
   "outputs": [
    {
     "data": {
      "text/plain": [
       "Text(0.5, 1.0, 'Price against # bathrooms')"
      ]
     },
     "execution_count": 18,
     "metadata": {},
     "output_type": "execute_result"
    },
    {
     "data": {
      "image/png": "[encoded data removed]",
      "text/plain": [
       "<Figure size 576x288 with 1 Axes>"
      ]
     },
     "metadata": {},
     "output_type": "display_data"
    }
   ],
   "source": [
    "sns.boxplot(data = df, y = 'price', x = 'no_of_bathrooms')\n",
    "plt.title('Price against # bathrooms')"
   ]
  },
  {
   "cell_type": "code",
   "execution_count": 19,
   "id": "d6152ca4",
   "metadata": {},
   "outputs": [
    {
     "data": {
      "text/plain": [
       "Text(0.5, 1.0, 'Price against quality')"
      ]
     },
     "execution_count": 19,
     "metadata": {},
     "output_type": "execute_result"
    },
    {
     "data": {
      "image/png": "[encoded data removed]",
      "text/plain": [
       "<Figure size 576x288 with 1 Axes>"
      ]
     },
     "metadata": {},
     "output_type": "display_data"
    }
   ],
   "source": [
    "# This doesn't make any sense. The quality column must be bunk.\n",
    "sns.boxplot(data = df, y = 'price', x = 'quality')\n",
    "plt.title('Price against quality')"
   ]
  },
  {
   "cell_type": "code",
   "execution_count": null,
   "id": "b3c7528e",
   "metadata": {},
   "outputs": [],
   "source": []
  }
 ],
 "metadata": {
  "kernelspec": {
   "display_name": "Python 3 (ipykernel)",
   "language": "python",
   "name": "python3"
  },
  "language_info": {
   "codemirror_mode": {
    "name": "ipython",
    "version": 3
   },
   "file_extension": ".py",
   "mimetype": "text/x-python",
   "name": "python",
   "nbconvert_exporter": "python",
   "pygments_lexer": "ipython3",
   "version": "3.8.12"
  }
 },
 "nbformat": 4,
 "nbformat_minor": 5
}
